{
 "metadata": {
  "language_info": {
   "codemirror_mode": {
    "name": "ipython",
    "version": 3
   },
   "file_extension": ".py",
   "mimetype": "text/x-python",
   "name": "python",
   "nbconvert_exporter": "python",
   "pygments_lexer": "ipython3",
   "version": "3.6.8"
  },
  "orig_nbformat": 2,
  "kernelspec": {
   "name": "python368jvsc74a57bd05aaa21292bba6f25a0acd2b17d635ff1ed4c09d2b66ae550e2ac1eb0923321ef",
   "display_name": "Python 3.6.8  ('chess': venv)"
  },
  "metadata": {
   "interpreter": {
    "hash": "5aaa21292bba6f25a0acd2b17d635ff1ed4c09d2b66ae550e2ac1eb0923321ef"
   }
  }
 },
 "nbformat": 4,
 "nbformat_minor": 2,
 "cells": [
  {
   "source": [
    "[https://github.com/victorsimrbt/Chess-Deep-Learning/blob/main/Chess%20Ai%20Trainer%20v4.ipynb](https://github.com/victorsimrbt/Chess-Deep-Learning/blob/main/Chess%20Ai%20Trainer%20v4.ipynb)"
   ],
   "cell_type": "markdown",
   "metadata": {}
  },
  {
   "cell_type": "code",
   "execution_count": 1,
   "metadata": {},
   "outputs": [],
   "source": [
    "import os\n",
    "import chess\n",
    "import numpy as np\n",
    "import pandas as pd\n",
    "import time"
   ]
  },
  {
   "cell_type": "code",
   "execution_count": 2,
   "metadata": {},
   "outputs": [],
   "source": [
    "from tensorflow.keras import callbacks, optimizers\n",
    "from tensorflow.python.keras.layers import (LSTM, BatchNormalization, Dense, Dropout, Flatten,\n",
    "                          TimeDistributed)\n",
    "from tensorflow.python.keras.layers.convolutional import Conv2D, MaxPooling2D\n",
    "from tensorflow.keras.models import Sequential, load_model, model_from_json\n",
    "from IPython.display import clear_output\n",
    "from matplotlib import pyplot as plt"
   ]
  },
  {
   "cell_type": "code",
   "execution_count": 3,
   "metadata": {},
   "outputs": [],
   "source": [
    "flatten = lambda l: [item for sublist in l for item in sublist]"
   ]
  },
  {
   "cell_type": "code",
   "execution_count": 4,
   "metadata": {},
   "outputs": [],
   "source": [
    "df = pd.read_csv('games.csv')\n",
    "data = df['moves'].tolist()[:500]"
   ]
  },
  {
   "cell_type": "code",
   "execution_count": 5,
   "metadata": {},
   "outputs": [],
   "source": [
    "chess_dict = {\n",
    "    'p' : [1,0,0,0,0,0,0,0,0,0,0,0],\n",
    "    'P' : [0,0,0,0,0,0,1,0,0,0,0,0],\n",
    "    'n' : [0,1,0,0,0,0,0,0,0,0,0,0],\n",
    "    'N' : [0,0,0,0,0,0,0,1,0,0,0,0],\n",
    "    'b' : [0,0,1,0,0,0,0,0,0,0,0,0],\n",
    "    'B' : [0,0,0,0,0,0,0,0,1,0,0,0],\n",
    "    'r' : [0,0,0,1,0,0,0,0,0,0,0,0],\n",
    "    'R' : [0,0,0,0,0,0,0,0,0,1,0,0],\n",
    "    'q' : [0,0,0,0,1,0,0,0,0,0,0,0],\n",
    "    'Q' : [0,0,0,0,0,0,0,0,0,0,1,0],\n",
    "    'k' : [0,0,0,0,0,1,0,0,0,0,0,0],\n",
    "    'K' : [0,0,0,0,0,0,0,0,0,0,0,1],\n",
    "    '.' : [0,0,0,0,0,0,0,0,0,0,0,0],\n",
    "}"
   ]
  },
  {
   "cell_type": "code",
   "execution_count": 6,
   "metadata": {},
   "outputs": [],
   "source": [
    "def make_matrix(board): \n",
    "    pgn = board.epd()\n",
    "    foo = []  \n",
    "    pieces = pgn.split(\" \", 1)[0]\n",
    "    rows = pieces.split(\"/\")\n",
    "    for row in rows:\n",
    "        foo2 = []  \n",
    "        for thing in row:\n",
    "            if thing.isdigit():\n",
    "                for i in range(0, int(thing)):\n",
    "                    foo2.append('.')\n",
    "            else:\n",
    "                foo2.append(thing)\n",
    "        foo.append(foo2)\n",
    "    return foo"
   ]
  },
  {
   "cell_type": "code",
   "execution_count": 7,
   "metadata": {},
   "outputs": [],
   "source": [
    "def translate(matrix,chess_dict):\n",
    "    rows = []\n",
    "    for row in matrix:\n",
    "        terms = []\n",
    "        for term in row:\n",
    "            terms.append(chess_dict[term])\n",
    "        rows.append(terms)\n",
    "    return rows"
   ]
  },
  {
   "cell_type": "code",
   "execution_count": 8,
   "metadata": {},
   "outputs": [],
   "source": [
    "def data_setup():\n",
    "    X = []\n",
    "    y = []\n",
    "    for game in range(len(data)):\n",
    "        data[game] = data[game].split()\n",
    "        board = chess.Board()\n",
    "        for move in range(len(data[game])):\n",
    "            legal_moves = str(board.legal_moves)[36:-2].replace(',','').split()\n",
    "            matrix = make_matrix(board.copy())\n",
    "            translated = translate(matrix,chess_dict)\n",
    "            X.append(translated)\n",
    "            board.push_san(data[game][move])\n",
    "            y.append(legal_moves.index(data[game][move])/len(legal_moves))\n",
    "    return X,y"
   ]
  },
  {
   "cell_type": "code",
   "execution_count": 9,
   "metadata": {},
   "outputs": [],
   "source": [
    "def initialize_network():\n",
    "    model = Sequential()\n",
    "    model.add(Conv2D(filters=10, kernel_size=1, activation='relu', input_shape=(8,8,12)))\n",
    "    model.add(MaxPooling2D(pool_size=2, strides=None))\n",
    "    model.add(Conv2D(filters=10, kernel_size=1, activation='relu'))\n",
    "    model.add(MaxPooling2D(pool_size=2, strides=None))\n",
    "    model.add(Conv2D(filters=10, kernel_size=1, activation='relu'))\n",
    "    model.add(MaxPooling2D(pool_size=2, strides=None))\n",
    "    model.add(Conv2D(filters=10, kernel_size=1, activation='relu'))\n",
    "    model.add(Flatten())\n",
    "    model.add(BatchNormalization())\n",
    "    model.add(Dense(1,activation = 'sigmoid'))\n",
    "    return model"
   ]
  },
  {
   "cell_type": "code",
   "execution_count": 10,
   "metadata": {},
   "outputs": [
    {
     "output_type": "stream",
     "name": "stdout",
     "text": [
      "Preparing Data...\n"
     ]
    },
    {
     "output_type": "error",
     "ename": "ValueError",
     "evalue": "'Ke7' is not in list",
     "traceback": [
      "\u001b[1;31m---------------------------------------------------------------------------\u001b[0m",
      "\u001b[1;31mValueError\u001b[0m                                Traceback (most recent call last)",
      "\u001b[1;32m<ipython-input-10-5b30f7d5d82b>\u001b[0m in \u001b[0;36m<module>\u001b[1;34m\u001b[0m\n\u001b[0;32m      1\u001b[0m \u001b[0mprint\u001b[0m\u001b[1;33m(\u001b[0m\u001b[1;34m'Preparing Data...'\u001b[0m\u001b[1;33m)\u001b[0m\u001b[1;33m\u001b[0m\u001b[1;33m\u001b[0m\u001b[0m\n\u001b[0;32m      2\u001b[0m \u001b[0mstart\u001b[0m \u001b[1;33m=\u001b[0m \u001b[0mtime\u001b[0m\u001b[1;33m.\u001b[0m\u001b[0mtime\u001b[0m\u001b[1;33m(\u001b[0m\u001b[1;33m)\u001b[0m\u001b[1;33m\u001b[0m\u001b[1;33m\u001b[0m\u001b[0m\n\u001b[1;32m----> 3\u001b[1;33m \u001b[0mX\u001b[0m\u001b[1;33m,\u001b[0m\u001b[0my\u001b[0m \u001b[1;33m=\u001b[0m \u001b[0mdata_setup\u001b[0m\u001b[1;33m(\u001b[0m\u001b[1;33m)\u001b[0m\u001b[1;33m\u001b[0m\u001b[1;33m\u001b[0m\u001b[0m\n\u001b[0m\u001b[0;32m      4\u001b[0m \u001b[0mone_game_time\u001b[0m \u001b[1;33m=\u001b[0m \u001b[0mtime\u001b[0m\u001b[1;33m.\u001b[0m\u001b[0mtime\u001b[0m\u001b[1;33m(\u001b[0m\u001b[1;33m)\u001b[0m\u001b[1;33m-\u001b[0m\u001b[0mstart\u001b[0m\u001b[1;33m\u001b[0m\u001b[1;33m\u001b[0m\u001b[0m\n\u001b[0;32m      5\u001b[0m \u001b[0mX\u001b[0m \u001b[1;33m=\u001b[0m \u001b[0mnp\u001b[0m\u001b[1;33m.\u001b[0m\u001b[0marray\u001b[0m\u001b[1;33m(\u001b[0m\u001b[0mX\u001b[0m\u001b[1;33m)\u001b[0m\u001b[1;33m\u001b[0m\u001b[1;33m\u001b[0m\u001b[0m\n",
      "\u001b[1;32m<ipython-input-8-61e03cd9efc5>\u001b[0m in \u001b[0;36mdata_setup\u001b[1;34m()\u001b[0m\n\u001b[0;32m     11\u001b[0m             \u001b[0mX\u001b[0m\u001b[1;33m.\u001b[0m\u001b[0mappend\u001b[0m\u001b[1;33m(\u001b[0m\u001b[0mtranslated\u001b[0m\u001b[1;33m)\u001b[0m\u001b[1;33m\u001b[0m\u001b[1;33m\u001b[0m\u001b[0m\n\u001b[0;32m     12\u001b[0m             \u001b[0mboard\u001b[0m\u001b[1;33m.\u001b[0m\u001b[0mpush_san\u001b[0m\u001b[1;33m(\u001b[0m\u001b[0mdata\u001b[0m\u001b[1;33m[\u001b[0m\u001b[0mgame\u001b[0m\u001b[1;33m]\u001b[0m\u001b[1;33m[\u001b[0m\u001b[0mmove\u001b[0m\u001b[1;33m]\u001b[0m\u001b[1;33m)\u001b[0m\u001b[1;33m\u001b[0m\u001b[1;33m\u001b[0m\u001b[0m\n\u001b[1;32m---> 13\u001b[1;33m             \u001b[0my\u001b[0m\u001b[1;33m.\u001b[0m\u001b[0mappend\u001b[0m\u001b[1;33m(\u001b[0m\u001b[0mlegal_moves\u001b[0m\u001b[1;33m.\u001b[0m\u001b[0mindex\u001b[0m\u001b[1;33m(\u001b[0m\u001b[0mdata\u001b[0m\u001b[1;33m[\u001b[0m\u001b[0mgame\u001b[0m\u001b[1;33m]\u001b[0m\u001b[1;33m[\u001b[0m\u001b[0mmove\u001b[0m\u001b[1;33m]\u001b[0m\u001b[1;33m)\u001b[0m\u001b[1;33m/\u001b[0m\u001b[0mlen\u001b[0m\u001b[1;33m(\u001b[0m\u001b[0mlegal_moves\u001b[0m\u001b[1;33m)\u001b[0m\u001b[1;33m)\u001b[0m\u001b[1;33m\u001b[0m\u001b[1;33m\u001b[0m\u001b[0m\n\u001b[0m\u001b[0;32m     14\u001b[0m     \u001b[1;32mreturn\u001b[0m \u001b[0mX\u001b[0m\u001b[1;33m,\u001b[0m\u001b[0my\u001b[0m\u001b[1;33m\u001b[0m\u001b[1;33m\u001b[0m\u001b[0m\n",
      "\u001b[1;31mValueError\u001b[0m: 'Ke7' is not in list"
     ]
    }
   ],
   "source": [
    "print('Preparing Data...')\n",
    "start = time.time()\n",
    "X,y = data_setup()\n",
    "one_game_time = time.time()-start\n",
    "X = np.array(X)\n",
    "X_test = X[:int(len(X)*0.1)]\n",
    "X_train = X[int(len(X)*0.1):]\n",
    "y_test = y[:int(len(X)*0.1)]\n",
    "y_train = y[int(len(X)*0.1):]\n",
    "print('Initalizing Network...')\n",
    "model = initialize_network()\n",
    "print('Compiling Network...')"
   ]
  },
  {
   "cell_type": "code",
   "execution_count": null,
   "metadata": {},
   "outputs": [],
   "source": [
    "print('Preparing Data...')\n",
    "start = time.time()\n",
    "X,y = data_setup()\n",
    "one_game_time = time.time()-start\n",
    "X = np.array(X)\n",
    "X_test = X[:int(len(X)*0.1)]\n",
    "X_train = X[int(len(X)*0.1):]\n",
    "y_test = y[:int(len(X)*0.1)]\n",
    "y_train = y[int(len(X)*0.1):]\n",
    "print('Initalizing Network...')\n",
    "model = initialize_network()\n",
    "print('Compiling Network...')"
   ]
  },
  {
   "cell_type": "code",
   "execution_count": null,
   "metadata": {},
   "outputs": [],
   "source": [
    "chess_board = chess.Board()\n",
    "for i in range(100):\n",
    "    matrix = make_matrix(chess_board)\n",
    "    board = translate(matrix,chess_dict)\n",
    "    board = np.array(board)\n",
    "    board = np.reshape(board,(1,8,8,12))\n",
    "    pred = model.predict(board)\n",
    "    legal_moves = str(chess_board.legal_moves)[36:-2].replace(',','').split()\n",
    "    index = int(round((len(legal_moves)*pred)[0][0]))\n",
    "    chess_board.push_san(legal_moves[index])\n",
    "    if chess_board.is_checkmate():\n",
    "        break\n",
    "chess_board"
   ]
  }
 ]
}